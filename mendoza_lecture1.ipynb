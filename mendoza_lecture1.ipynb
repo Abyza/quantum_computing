{
 "cells": [
  {
   "cell_type": "code",
   "execution_count": 114,
   "id": "6bc6084d-47d1-4b61-8ba0-cee7f2773e65",
   "metadata": {},
   "outputs": [],
   "source": [
    "#!pip install qiskit\n",
    "#!pip install qiskit-aer"
   ]
  },
  {
   "cell_type": "code",
   "execution_count": 115,
   "id": "b2b6948a-2ba7-400e-8cbc-3f8c11b38870",
   "metadata": {},
   "outputs": [],
   "source": [
    "#!python.exe -m pip install --upgrade pip"
   ]
  },
  {
   "cell_type": "code",
   "execution_count": 116,
   "id": "87a54ed3-f24a-41a1-83ea-119613f6faf0",
   "metadata": {},
   "outputs": [],
   "source": [
    "#!python -V"
   ]
  },
  {
   "cell_type": "code",
   "execution_count": 1,
   "id": "2c83d3d8-3136-44f9-aba6-5dde6c5be7cd",
   "metadata": {},
   "outputs": [],
   "source": [
    "from qiskit import *\n",
    "import numpy as mp"
   ]
  },
  {
   "cell_type": "code",
   "execution_count": 2,
   "id": "82187069-c060-49e5-8677-d7434ffd70bc",
   "metadata": {},
   "outputs": [],
   "source": [
    "circuit = QuantumCircuit(2)\n",
    "\n",
    "#circuit.x(0)\n",
    "#circuit.z(0)\n",
    "#circuit.y(0)\n",
    "#circuit.h(1)  hadamard\n",
    "#circuit.cx(0,1)()control, target  cnot gate\n",
    "\n",
    "#small circle is target\n"
   ]
  },
  {
   "cell_type": "code",
   "execution_count": 3,
   "id": "d128468d-fef3-4423-a633-42b6c36bb38b",
   "metadata": {},
   "outputs": [
    {
     "data": {
      "image/png": "[encoded data removed]",
      "text/plain": [
       "<Figure size 161.878x200.667 with 1 Axes>"
      ]
     },
     "execution_count": 3,
     "metadata": {},
     "output_type": "execute_result"
    }
   ],
   "source": [
    "circuit.draw('mpl')"
   ]
  },
  {
   "cell_type": "markdown",
   "id": "266257b3-dca0-42f9-8477-513c3aa835e0",
   "metadata": {},
   "source": [
    "Create a quantum circuit with three qubits. Apply hadamard gates to the first and second qubit. Apply a CNOT gate to the third qubit with the first as the control, then another CNOT gate for the second qubit with the third qubit as the control qubit"
   ]
  },
  {
   "cell_type": "code",
   "execution_count": 4,
   "id": "5b519e91-a426-4d4f-9116-4b8539deff46",
   "metadata": {},
   "outputs": [
    {
     "data": {
      "text/plain": [
       "<qiskit.circuit.instructionset.InstructionSet at 0x2ed8899c8b0>"
      ]
     },
     "execution_count": 4,
     "metadata": {},
     "output_type": "execute_result"
    }
   ],
   "source": [
    "circuit = QuantumCircuit(3)\n",
    "\n",
    "circuit.h([0,1])\n",
    "circuit.cx(0,2)\n",
    "circuit.cx(2,1)"
   ]
  },
  {
   "cell_type": "code",
   "execution_count": 5,
   "id": "2ac93d13-52e7-4502-9a2f-b1e2419f86d4",
   "metadata": {},
   "outputs": [
    {
     "data": {
      "image/png": "[encoded data removed]",
      "text/plain": [
       "<Figure size 371.107x284.278 with 1 Axes>"
      ]
     },
     "execution_count": 5,
     "metadata": {},
     "output_type": "execute_result"
    }
   ],
   "source": [
    "circuit.draw('mpl')"
   ]
  },
  {
   "cell_type": "code",
   "execution_count": 6,
   "id": "be7ee2da-0ff4-43ac-8f0d-69bb2d458890",
   "metadata": {},
   "outputs": [
    {
     "data": {
      "text/plain": [
       "<qiskit.circuit.instructionset.InstructionSet at 0x2ed87a05390>"
      ]
     },
     "execution_count": 6,
     "metadata": {},
     "output_type": "execute_result"
    }
   ],
   "source": [
    "circuit = QuantumCircuit(3)\n",
    "\n",
    "\n",
    "circuit.ccx(0,2,1)"
   ]
  },
  {
   "cell_type": "code",
   "execution_count": 7,
   "id": "bdaf80a1-585c-459c-a214-c1630fbee1d4",
   "metadata": {},
   "outputs": [
    {
     "data": {
      "image/png": "[encoded data removed]",
      "text/plain": [
       "<Figure size 203.885x284.278 with 1 Axes>"
      ]
     },
     "execution_count": 7,
     "metadata": {},
     "output_type": "execute_result"
    }
   ],
   "source": [
    "circuit.draw('mpl')"
   ]
  },
  {
   "cell_type": "code",
   "execution_count": 8,
   "id": "914d2100-9a5c-458d-b606-32b3e3c727c7",
   "metadata": {},
   "outputs": [
    {
     "data": {
      "text/plain": [
       "<qiskit.circuit.instructionset.InstructionSet at 0x2ed889d3b80>"
      ]
     },
     "execution_count": 8,
     "metadata": {},
     "output_type": "execute_result"
    }
   ],
   "source": [
    "circuit = QuantumCircuit(3)\n",
    "\n",
    "\n",
    "circuit.cx(0,2)\n",
    "circuit.x(2)"
   ]
  },
  {
   "cell_type": "code",
   "execution_count": 9,
   "id": "6e1986bc-125d-4089-9b31-41a68de4b0ea",
   "metadata": {},
   "outputs": [
    {
     "data": {
      "image/png": "[encoded data removed]",
      "text/plain": [
       "<Figure size 287.496x284.278 with 1 Axes>"
      ]
     },
     "execution_count": 9,
     "metadata": {},
     "output_type": "execute_result"
    }
   ],
   "source": [
    "circuit.draw('mpl')"
   ]
  },
  {
   "cell_type": "code",
   "execution_count": 10,
   "id": "98072c1f-9ca9-4f86-8585-4653eeefe56f",
   "metadata": {},
   "outputs": [],
   "source": [
    "import qiskit.quantum_info as qi"
   ]
  },
  {
   "cell_type": "code",
   "execution_count": 11,
   "id": "523a45b5-1146-4c58-9682-306afbd5267f",
   "metadata": {},
   "outputs": [
    {
     "data": {
      "text/plain": [
       "<qiskit.circuit.instructionset.InstructionSet at 0x2ed89af8a90>"
      ]
     },
     "execution_count": 11,
     "metadata": {},
     "output_type": "execute_result"
    }
   ],
   "source": [
    "circuit = QuantumCircuit(2,2)\n",
    "circuit.x(0)"
   ]
  },
  {
   "cell_type": "code",
   "execution_count": 12,
   "id": "24419d5a-89b0-4f4f-b86a-b8c0aa92e736",
   "metadata": {},
   "outputs": [
    {
     "data": {
      "image/png": "[encoded data removed]",
      "text/plain": [
       "<Figure size 203.683x284.278 with 1 Axes>"
      ]
     },
     "execution_count": 12,
     "metadata": {},
     "output_type": "execute_result"
    }
   ],
   "source": [
    "circuit.draw('mpl')"
   ]
  },
  {
   "cell_type": "code",
   "execution_count": 13,
   "id": "ba09edb9-63bf-4c1b-a0a5-6633c370b4e0",
   "metadata": {},
   "outputs": [
    {
     "data": {
      "text/latex": [
       "$$ |01\\rangle$$"
      ],
      "text/plain": [
       "<IPython.core.display.Latex object>"
      ]
     },
     "execution_count": 13,
     "metadata": {},
     "output_type": "execute_result"
    }
   ],
   "source": [
    "qi.Statevector.from_instruction(circuit).draw('latex')"
   ]
  },
  {
   "cell_type": "code",
   "execution_count": 14,
   "id": "260719d6-32b2-42ce-af32-ce613cfa150d",
   "metadata": {},
   "outputs": [
    {
     "data": {
      "text/plain": [
       "<qiskit.circuit.instructionset.InstructionSet at 0x2ed89b36590>"
      ]
     },
     "execution_count": 14,
     "metadata": {},
     "output_type": "execute_result"
    }
   ],
   "source": [
    "circuit = QuantumCircuit(2,2)\n",
    "circuit.h(0)\n",
    "circuit.h(1)"
   ]
  },
  {
   "cell_type": "code",
   "execution_count": 15,
   "id": "7ddb2d57-5e4b-48b5-8464-d1356a8e0184",
   "metadata": {},
   "outputs": [
    {
     "data": {
      "image/png": "[encoded data removed]",
      "text/plain": [
       "<Figure size 203.683x284.278 with 1 Axes>"
      ]
     },
     "execution_count": 15,
     "metadata": {},
     "output_type": "execute_result"
    }
   ],
   "source": [
    "circuit.draw('mpl')"
   ]
  },
  {
   "cell_type": "code",
   "execution_count": 16,
   "id": "c6a2e997-4ab4-4583-a725-a5cf042378bf",
   "metadata": {},
   "outputs": [
    {
     "data": {
      "text/latex": [
       "$$\\frac{1}{2} |00\\rangle+\\frac{1}{2} |01\\rangle+\\frac{1}{2} |10\\rangle+\\frac{1}{2} |11\\rangle$$"
      ],
      "text/plain": [
       "<IPython.core.display.Latex object>"
      ]
     },
     "execution_count": 16,
     "metadata": {},
     "output_type": "execute_result"
    }
   ],
   "source": [
    "qi.Statevector.from_instruction(circuit).draw('latex')"
   ]
  },
  {
   "cell_type": "code",
   "execution_count": 47,
   "id": "45de5160-44e6-40a0-8731-3082ec7cc75b",
   "metadata": {},
   "outputs": [
    {
     "data": {
      "image/png": "[encoded data removed]",
      "text/plain": [
       "<Figure size 287.294x284.278 with 1 Axes>"
      ]
     },
     "execution_count": 47,
     "metadata": {},
     "output_type": "execute_result"
    }
   ],
   "source": [
    "# xnor gate\n",
    "circuit = QuantumCircuit(2,2)\n",
    "circuit.cx(0,1)\n",
    "circuit.x(1)\n",
    "\n",
    "circuit.draw('mpl')\n",
    "\n"
   ]
  },
  {
   "cell_type": "code",
   "execution_count": 48,
   "id": "aa7a7fed-8463-4cfb-acc8-f6f5f5743f3a",
   "metadata": {},
   "outputs": [
    {
     "data": {
      "text/latex": [
       "$$ |10\\rangle$$"
      ],
      "text/plain": [
       "<IPython.core.display.Latex object>"
      ]
     },
     "execution_count": 48,
     "metadata": {},
     "output_type": "execute_result"
    }
   ],
   "source": [
    "qi.Statevector.from_instruction(circuit).draw('latex')"
   ]
  },
  {
   "cell_type": "code",
   "execution_count": 49,
   "id": "c45d6ffa-bb00-43c2-9df8-1b52dc6dc45e",
   "metadata": {},
   "outputs": [
    {
     "data": {
      "text/plain": [
       "<qiskit.circuit.instructionset.InstructionSet at 0x2eddcbc8190>"
      ]
     },
     "execution_count": 49,
     "metadata": {},
     "output_type": "execute_result"
    }
   ],
   "source": [
    "circuit = QuantumCircuit(3,3)\n",
    "\n",
    "circuit.cx(0,2)\n",
    "circuit.x(2)\n",
    "circuit.barrier()\n",
    "circuit.measure(0,0)\n",
    "circuit.measure(1,1)\n",
    "circuit.measure(2,2)"
   ]
  },
  {
   "cell_type": "code",
   "execution_count": 50,
   "id": "3d1daed1-65a8-469a-b5b7-331b928cc38d",
   "metadata": {},
   "outputs": [
    {
     "data": {
      "image/png": "[encoded data removed]",
      "text/plain": [
       "<Figure size 621.941x367.889 with 1 Axes>"
      ]
     },
     "execution_count": 50,
     "metadata": {},
     "output_type": "execute_result"
    }
   ],
   "source": [
    "circuit.draw('mpl')"
   ]
  },
  {
   "cell_type": "code",
   "execution_count": 53,
   "id": "02356cd7-558c-4bbd-afde-dc9c063ccac4",
   "metadata": {},
   "outputs": [
    {
     "data": {
      "image/png": "[encoded data removed]",
      "text/plain": [
       "<Figure size 621.941x367.889 with 1 Axes>"
      ]
     },
     "execution_count": 53,
     "metadata": {},
     "output_type": "execute_result"
    }
   ],
   "source": [
    "circuit = QuantumCircuit(3,3)\n",
    "\n",
    "circuit.cx(0,2)\n",
    "circuit.x(2)\n",
    "circuit.barrier()\n",
    "circuit.measure([0,1,2],[0,1,2])\n",
    "circuit.draw('mpl')"
   ]
  },
  {
   "cell_type": "code",
   "execution_count": 85,
   "id": "2445f1d2-44a0-43ad-877e-7fd0a4dcb939",
   "metadata": {},
   "outputs": [],
   "source": [
    "from qiskit.visualization import plot_histogram"
   ]
  },
  {
   "cell_type": "code",
   "execution_count": 99,
   "id": "6a088fef-9329-40de-b556-98aea5770ba5",
   "metadata": {},
   "outputs": [
    {
     "data": {
      "image/png": "[encoded data removed]",
      "text/plain": [
       "<Figure size 454.517x284.278 with 1 Axes>"
      ]
     },
     "execution_count": 99,
     "metadata": {},
     "output_type": "execute_result"
    }
   ],
   "source": [
    "circuit = QuantumCircuit(2,2)\n",
    "\n",
    "circuit.h([0,1])\n",
    "circuit.barrier()\n",
    "circuit.measure([0,1],[0,1])\n",
    "circuit.draw('mpl')"
   ]
  },
  {
   "cell_type": "code",
   "execution_count": 100,
   "id": "0522e8bd-c446-4b56-9320-da92f1e74dcc",
   "metadata": {},
   "outputs": [],
   "source": [
    "from qiskit_aer import Aer"
   ]
  },
  {
   "cell_type": "code",
   "execution_count": 101,
   "id": "4a108b0c-ece6-4536-bfc3-32263a5d6cae",
   "metadata": {},
   "outputs": [],
   "source": [
    "backend = Aer.get_backend('qasm_simulator')"
   ]
  },
  {
   "cell_type": "code",
   "execution_count": 110,
   "id": "d099be96-1a21-4d5c-8d97-13735dfe2b3d",
   "metadata": {},
   "outputs": [],
   "source": [
    "# change the shots for more accuracy of distribution\n",
    "job = backend.run(circuit, shots = 100000)\n",
    "result = job.result()"
   ]
  },
  {
   "cell_type": "code",
   "execution_count": 111,
   "id": "9452c56c-17d0-4954-ab69-9b675696e2db",
   "metadata": {},
   "outputs": [
    {
     "data": {
      "text/plain": [
       "Result(backend_name='qasm_simulator', backend_version='0.13.3', qobj_id='', job_id='e0dfafbe-66b3-4b73-b5f3-e8655e8a6c5c', success=True, results=[ExperimentResult(shots=100000, success=True, meas_level=2, data=ExperimentResultData(counts={'0x0': 25025, '0x3': 24809, '0x2': 25203, '0x1': 24963}), header=QobjExperimentHeader(creg_sizes=[['c', 2]], global_phase=0.0, memory_slots=2, n_qubits=2, name='circuit-193', qreg_sizes=[['q', 2]], metadata={}), status=DONE, seed_simulator=159157142, metadata={'batched_shots_optimization': False, 'required_memory_mb': 0, 'method': 'stabilizer', 'active_input_qubits': [0, 1], 'device': 'CPU', 'remapped_qubits': False, 'num_qubits': 2, 'num_clbits': 2, 'time_taken': 0.3718286, 'sample_measure_time': 0.1414042, 'input_qubit_map': [[0, 0], [1, 1]], 'max_memory_mb': 16088, 'measure_sampling': True, 'noise': 'ideal', 'parallel_shots': 1, 'parallel_state_update': 16, 'runtime_parameter_bind': False, 'num_bind_params': 1, 'fusion': {'enabled': False}}, time_taken=0.3718286)], date=2024-03-01T11:46:35.636003, status=COMPLETED, header=None, metadata={'omp_enabled': True, 'parallel_experiments': 1, 'max_memory_mb': 16088, 'max_gpu_memory_mb': 0, 'time_taken_execute': 0.3718844, 'time_taken_parameter_binding': 1.05e-05}, time_taken=0.37308216094970703)"
      ]
     },
     "execution_count": 111,
     "metadata": {},
     "output_type": "execute_result"
    }
   ],
   "source": [
    "result"
   ]
  },
  {
   "cell_type": "code",
   "execution_count": 112,
   "id": "2562bfc7-3f6c-417a-b1b8-c4e63f5bfa1c",
   "metadata": {},
   "outputs": [
    {
     "data": {
      "text/plain": [
       "{'00': 25025, '11': 24809, '10': 25203, '01': 24963}"
      ]
     },
     "execution_count": 112,
     "metadata": {},
     "output_type": "execute_result"
    }
   ],
   "source": [
    "result.get_counts()"
   ]
  },
  {
   "cell_type": "code",
   "execution_count": 113,
   "id": "6765e4f6-9539-4d77-ac94-0c1094412772",
   "metadata": {},
   "outputs": [
    {
     "data": {
      "image/png": "[encoded data removed]",
      "text/plain": [
       "<Figure size 700x500 with 1 Axes>"
      ]
     },
     "execution_count": 113,
     "metadata": {},
     "output_type": "execute_result"
    }
   ],
   "source": [
    "plot_histogram(result.get_counts(circuit))"
   ]
  },
  {
   "cell_type": "markdown",
   "id": "5f7e9f80-8d6f-44b7-a98a-79b5bf7184b5",
   "metadata": {},
   "source": [
    "assignment\n"
   ]
  }
 ],
 "metadata": {
  "kernelspec": {
   "display_name": "Python 3 (ipykernel)",
   "language": "python",
   "name": "python3"
  },
  "language_info": {
   "codemirror_mode": {
    "name": "ipython",
    "version": 3
   },
   "file_extension": ".py",
   "mimetype": "text/x-python",
   "name": "python",
   "nbconvert_exporter": "python",
   "pygments_lexer": "ipython3",
   "version": "3.10.6"
  }
 },
 "nbformat": 4,
 "nbformat_minor": 5
}
